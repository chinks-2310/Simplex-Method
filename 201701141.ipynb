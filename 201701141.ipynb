{
  "nbformat": 4,
  "nbformat_minor": 0,
  "metadata": {
    "colab": {
      "name": "Untitled10.ipynb",
      "provenance": [],
      "collapsed_sections": []
    },
    "kernelspec": {
      "name": "python3",
      "display_name": "Python 3"
    }
  },
  "cells": [
    {
      "cell_type": "code",
      "metadata": {
        "id": "fPGGNq4rRO0X"
      },
      "source": [
        "import numpy as np\n",
        "import heapq\n",
        "from fractions import Fraction"
      ],
      "execution_count": null,
      "outputs": []
    },
    {
      "cell_type": "code",
      "metadata": {
        "id": "4O7ANljc68Sv",
        "outputId": "f5a826a1-2703-458e-bb5a-460de695e72a",
        "colab": {
          "base_uri": "https://localhost:8080/",
          "height": 51
        }
      },
      "source": [
        "#Example 1: Max Z=3x1+4x2\n",
        "#such that x1+2x2 <=4\n",
        "#          3x1+2x2<=6\n",
        "#          x1, x2 >=0\n",
        "print(\"(1,3/2,0,0)\")\n",
        "z=9\n",
        "print(z)"
      ],
      "execution_count": 36,
      "outputs": [
        {
          "output_type": "stream",
          "text": [
            "(1,3/2,0,0)\n",
            "9\n"
          ],
          "name": "stdout"
        }
      ]
    },
    {
      "cell_type": "code",
      "metadata": {
        "id": "hwpp734ARj3s",
        "outputId": "57c5a6aa-5bcd-4bb8-b3c3-3960c9810702",
        "colab": {
          "base_uri": "https://localhost:8080/",
          "height": 170
        }
      },
      "source": [
        "#Input Constraints.\n",
        "#Simplex Algorithm Tabular Form\n",
        "#                        Assignment-2\n",
        "#ID:201701141\n",
        "\n",
        "#Name: Chintan Thakkar\n",
        "\n",
        "\n",
        "#Write a program to solve an LPP using simplex method.\n",
        "#Example 1: Max Z=3x1+4x2\n",
        "#such that x1+2x2 <=4\n",
        "#          3x1+2x2<=6\n",
        "#          x1, x2 >=0\n",
        "#Introducing x3 and x4 slack variable in equation 1 and 2.\n",
        "#\n",
        "#                    Cj    3      4      0      0      b/aj\n",
        "#CB     B     XB     b     a1     a2     a3     a4     minRatio     Operation\n",
        "\n",
        "#0      a3    x3     4     1      2      1      0      4/2=2\n",
        "\n",
        "#0      a4    x4     6     3      2      0      1      6/2=3\n",
        "\n",
        "#Zj-Cj               0    -3     -4      0      0\n",
        "\n",
        "\n",
        "\n",
        "#                    Cj    3      4      0      0      b/aj\n",
        "#CB     B     XB     b     a1     a2     a3     a4     minRatio     Operation\n",
        "\n",
        "#4      a2    x2     2     1/2     1     1/2    0      2/1/2=4      R1'=R1/2\n",
        "\n",
        "#0      a4    x4     2     2      2      0      -1     2/2=1        R2'=R2-2R1'\n",
        "\n",
        "#Zj-Cj               8    -1      0      2      0\n",
        "\n",
        "\n",
        "\n",
        "#                    Cj    3      4      0      0      b/aj\n",
        "#CB     B     XB     b     a1     a2     a3     a4     minRatio     Operation\n",
        "\n",
        "#4      a2    x2     3/2   0      1      3/4    -1/4     \n",
        "\n",
        "#3      a1    x1     1     1      0      -1/2    1/2      6/2=3\n",
        "\n",
        "#Zj-Cj               9     0      0      3/2      1/2\n",
        "\n",
        "\n",
        "#Max Value Z=9 and x1=1, x2=3/2\n",
        "\n",
        "No_Variable=int(input(\"Enter the Number of variables :\"))\n",
        "No_Constraints=int(input(\"Enter the Number of Constraints:\"))\n",
        "\n",
        "#Ax=b\n",
        "A=[]\n",
        "b=[]\n",
        "#c variable is used for maximization functions coefficients\n",
        "\n",
        "c=[]\n",
        "Right_Hand_Equation=[]\n",
        "Type_Of_Inequality=[]\n",
        "Total_Number_Of_Variable=No_Variable+No_Constraints\n",
        "c=list(map(int,input(\"Enter the Coefficieent of Maximization Function: \").strip().split()))[:No_Variable]\n",
        "for i in range(0,No_Constraints):\n",
        "  c.append(0)\n",
        "\n",
        "#Here we are adding \"Slack Variable\".\n",
        "\n",
        "for i in range(0,No_Constraints):\n",
        "  Left_Coefficient=list(map(int,input(\"Enter the Coeffiecient of Equation %d : \" %(i+1)).strip().split()))[:No_Variable]\n",
        "  for j in range(0,No_Constraints):\n",
        "    if i==j:\n",
        "      Left_Coefficient.append(1)\n",
        "    else:\n",
        "      Left_Coefficient.append(0)\n",
        "  A.append(Left_Coefficient)\n",
        "  In=input(\"Enter leq for less than or equal to: \")\n",
        "  if In != \"leq\":\n",
        "    print(\"Enter leq only. You are not supposed to Enter the other choice.\")\n",
        "    print(\"Enter all input again\")\n",
        "    break\n",
        "  Right_Coefficient=int(input(\"Enter the Right Hand Side of Less than or Equal to Equation %d: \" %(i+1)))\n",
        "  b.append(Right_Coefficient)\n",
        "\n",
        "\n"
      ],
      "execution_count": null,
      "outputs": [
        {
          "output_type": "stream",
          "text": [
            "Enter the Number of variables :2\n",
            "Enter the Number of Constraints:2\n",
            "Enter the Coefficieent of Maximization Function: 3 4\n",
            "Enter the Coeffiecient of Equation 1 : 1 2\n",
            "Enter leq for less than or equal to: leq\n",
            "Enter the Right Hand Side of Less than or Equal to Equation 1: 4\n",
            "Enter the Coeffiecient of Equation 2 : 3 2\n",
            "Enter leq for less than or equal to: leq\n",
            "Enter the Right Hand Side of Less than or Equal to Equation 2: 6\n"
          ],
          "name": "stdout"
        }
      ]
    },
    {
      "cell_type": "code",
      "metadata": {
        "id": "zPN6wiNzTEkz",
        "outputId": "1ceaf66c-86f6-4a0a-f25a-2901b8879491",
        "colab": {
          "base_uri": "https://localhost:8080/",
          "height": 119
        }
      },
      "source": [
        "#Here we are adding the value 0 to Cb. In the First Iteration all the Slack Variables are Basic Variable which are Initialized with 0.\n",
        "CB=np.array(0)\n",
        "for i in range(0,No_Constraints-1):\n",
        "  CB=np.vstack((CB,0))\n",
        "\n",
        "\n",
        "B=np.array(Total_Number_Of_Variable-No_Constraints)\n",
        "for i in range(Total_Number_Of_Variable - No_Constraints +1,Total_Number_Of_Variable):\n",
        "  B=np.vstack((B,i))\n",
        "\n",
        "#hstack() is used to stack the sequence of input arrays horizontally to make a single array. \n",
        "#So that We can print the whole table easily.\n",
        "\n",
        "xb = np.transpose([b])                  \n",
        "table = np.hstack((CB, B))              \n",
        "table = np.hstack((table, xb))          \n",
        "table = np.hstack((table, A))          \n",
        "table = np.array(table, dtype ='float')\n",
        "\n",
        "\n",
        "print(\"\\t\\tTable Of Input\\n\")\n",
        "print(\"CB \\tB \\tXB\",end='\\t')\n",
        "for i in range(0,Total_Number_Of_Variable):\n",
        "  print(\"a\",end='')\n",
        "  print(i+1,end='\\t')\n",
        "print()\n",
        "for row in table :\n",
        "  for element in row:\n",
        "    print(Fraction(str(element)),end='\\t')\n",
        "  print()\n",
        "print()    "
      ],
      "execution_count": null,
      "outputs": [
        {
          "output_type": "stream",
          "text": [
            "\t\tTable Of Input\n",
            "\n",
            "CB \tB \tXB\ta1\ta2\ta3\ta4\t\n",
            "0\t2\t4\t1\t2\t1\t0\t\n",
            "0\t3\t6\t3\t2\t0\t1\t\n",
            "\n"
          ],
          "name": "stdout"
        }
      ]
    },
    {
      "cell_type": "code",
      "metadata": {
        "id": "Xo2704pZbWzI",
        "outputId": "e06683f3-d638-4ea0-89e5-acc6ad161621",
        "colab": {
          "base_uri": "https://localhost:8080/",
          "height": 289
        }
      },
      "source": [
        "#Whenever we reached to the optimality the value of the flag variable will be 1\n",
        "flag=0     #Flag variable is used to check whether we are arrived at optimality or not.\n",
        "unbounded=0  #This variable is used to check whether the solution is bounded or unbounded\n",
        "alternate=0\n",
        "\n",
        "#This three variables are the flag variable\n",
        "\n",
        "count=3\n",
        "\n",
        "#This For loop is used for All the Cj variable in the table.\n",
        "for i in range (-3,Total_Number_Of_Variable):\n",
        "  if i<0:\n",
        "    if i==-1:\n",
        "      print(\"Cj\",end='\\t')\n",
        "    else:\n",
        "      print(end='\\t')\n",
        "  else:\n",
        "    print(Fraction(c[i]),end='\\t')\n",
        "\n",
        "\n",
        "print()\n",
        "while flag==0:\n",
        "  print(\"CB \\tB \\tXB\",end='\\t')\n",
        "  for i in range (0,Total_Number_Of_Variable):\n",
        "    print(\"a\",end='')\n",
        "    print(i+1,end='\\t')\n",
        "  print()\n",
        "  for row in table:\n",
        "    for element in row:\n",
        "      print(Fraction(str(element)),end='\\t')\n",
        "    print()\n",
        "\n",
        "  #Now Calculate Zj-Cj for all the Non-Basic Variable. If all the Zj-Cj>=0 then we are reached at the optimal solution else do next iteration\n",
        "  i=0\n",
        "  all_zj_Cj=[]\n",
        "  while i<len(A[0]):\n",
        "    all_zj_Cj.append(np.sum(table[:,0]*table[:,3+i])-c[i])\n",
        "    i+=1\n",
        "  print(\"\\tZj-Cj: \",end=\"\\t\")\n",
        "  for j in all_zj_Cj:\n",
        "    print(Fraction(str(j)), end='\\t')\n",
        "  print()\n",
        "\n",
        "  i=0\n",
        "  f=0\n",
        "  #Here are f variable is used to check whether all the values of Zj-Cj>=0 or not.\n",
        "  for j in all_zj_Cj:\n",
        "    if j<0:\n",
        "      f=1\n",
        "      break\n",
        "  if f==0:\n",
        "    print(\"All Zj - Cj are >=0, Hence Optimality reached\")\n",
        "    flag=1\n",
        "    break\n",
        "\n",
        "  #If the above condition doesn't hold then\n",
        "\n",
        "  #We have to find the minimum Zj-Cj\n",
        "\n",
        "  m=all_zj_Cj[0]\n",
        "  k=0\n",
        "  i=0\n",
        "  for i in range(0,len(all_zj_Cj)):\n",
        "    if all_zj_Cj[i]<m:\n",
        "      m=all_zj_Cj[i]\n",
        "      k=i\n",
        "\n",
        "  #Now We have to Calculate the Min Ratio and We have to take only postive values\n",
        "\n",
        "  mi = 9999999\n",
        "  i = 0; \n",
        "  r = -1  \n",
        "\n",
        "    #For Loop for Min-Ratio Finding\n",
        "\n",
        "  while i< len(table):\n",
        "    if(table[:,2][i]>0 and table[:,3+k][i]>0):\n",
        "      value=table[:,2][i]/table[:,3+k][i]\n",
        "      if value<mi:\n",
        "        mi=value\n",
        "        r=int(B[i])\n",
        "        index=i\n",
        "      i+=1\n",
        "    \n",
        "    #If We Can't perform Min-Ratio test then there is possibility that the solution is unbounded\n",
        "  if index==-1:\n",
        "    unbounded=1\n",
        "    print(\"Case of Unbounded\")\n",
        "    break\n",
        "    #Here We are taking the basic variable who has minimum b/aj ratio\n",
        "    #We have to divide the whole raw by the pivot element\n",
        "    #We also have to perform operation in the other rows as Rk'=Rk-pivot*(pivotRow)\n",
        "\n",
        "\n",
        "  pivot=table[index][3+k]\n",
        "  table[index,2:len(table[0])]=table[index,2:len(table[0])]/pivot\n",
        "  i=0\n",
        "  while i<len(table):\n",
        "    if i!=index:\n",
        "      table[i,2:len(table[0])]=table[i,2:len(table[0])]-table[i][3+k]*table[index,2:len(table[0])]\n",
        "    i+=1\n",
        "\n",
        "    #Now new Basic Variable will Enter and Another Basic Variable will be leaving\n",
        "  table[index][0]=c[k]\n",
        "  table[index][1]=k\n",
        "  print()"
      ],
      "execution_count": null,
      "outputs": [
        {
          "output_type": "stream",
          "text": [
            "\t\tCj\t3\t4\t0\t0\t\n",
            "CB \tB \tXB\ta1\ta2\ta3\ta4\t\n",
            "0\t2\t4\t1\t2\t1\t0\t\n",
            "0\t3\t6\t3\t2\t0\t1\t\n",
            "\tZj-Cj: \t-3\t-4\t0\t0\t\n",
            "\n",
            "CB \tB \tXB\ta1\ta2\ta3\ta4\t\n",
            "4\t1\t2\t1/2\t1\t1/2\t0\t\n",
            "0\t3\t2\t2\t0\t-1\t1\t\n",
            "\tZj-Cj: \t-1\t0\t2\t0\t\n",
            "\n",
            "CB \tB \tXB\ta1\ta2\ta3\ta4\t\n",
            "4\t1\t3/2\t0\t1\t3/4\t-1/4\t\n",
            "3\t0\t1\t1\t0\t-1/2\t1/2\t\n",
            "\tZj-Cj: \t0\t0\t3/2\t1/2\t\n",
            "All Zj - Cj are >=0, Hence Optimality reached\n"
          ],
          "name": "stdout"
        }
      ]
    },
    {
      "cell_type": "code",
      "metadata": {
        "id": "s7GXi3lOpWlf",
        "outputId": "21e07747-4a64-4bdf-b456-a05186862fec",
        "colab": {
          "base_uri": "https://localhost:8080/",
          "height": 68
        }
      },
      "source": [
        "#Here we are checking for unboundedness and if we reached at optimality then at which point we get maximum value\n",
        "\n",
        "if unbounded == 1:\n",
        "  print(\"UNBOUNDED LPP\")\n",
        "  exit()\n",
        "i=0\n",
        "sum=0\n",
        "while i<len(table):\n",
        "  sum+=c[int(table[i][1])]*table[i][2]\n",
        "  print(\"x\"+str(int(table[i][1])+1),end=\"\\t\")\n",
        "  print(Fraction(table[i][2]),end=\"\\n\")\n",
        "  i+=1\n",
        "print(\"The Value of Z at Optimality: \" ,end=\" \")\n",
        "print(Fraction(sum))"
      ],
      "execution_count": null,
      "outputs": [
        {
          "output_type": "stream",
          "text": [
            "x2\t3/2\n",
            "x1\t1\n",
            "The Value of Z at Optimality:  9\n"
          ],
          "name": "stdout"
        }
      ]
    }
  ]
}